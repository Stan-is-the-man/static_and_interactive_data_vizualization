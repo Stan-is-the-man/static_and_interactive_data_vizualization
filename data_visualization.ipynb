{
 "cells": [
  {
   "cell_type": "code",
   "execution_count": 3,
   "metadata": {
    "collapsed": true
   },
   "outputs": [
    {
     "ename": "ModuleNotFoundError",
     "evalue": "No module named 'cufflinks'",
     "output_type": "error",
     "traceback": [
      "\u001B[1;31m---------------------------------------------------------------------------\u001B[0m",
      "\u001B[1;31mModuleNotFoundError\u001B[0m                       Traceback (most recent call last)",
      "Cell \u001B[1;32mIn[3], line 4\u001B[0m\n\u001B[0;32m      1\u001B[0m \u001B[38;5;28;01mimport\u001B[39;00m \u001B[38;5;21;01mpandas\u001B[39;00m \u001B[38;5;28;01mas\u001B[39;00m \u001B[38;5;21;01mpd\u001B[39;00m\n\u001B[0;32m      2\u001B[0m \u001B[38;5;28;01mimport\u001B[39;00m \u001B[38;5;21;01mmatplotlib\u001B[39;00m\u001B[38;5;21;01m.\u001B[39;00m\u001B[38;5;21;01mpyplot\u001B[39;00m \u001B[38;5;28;01mas\u001B[39;00m \u001B[38;5;21;01mplt\u001B[39;00m\n\u001B[1;32m----> 4\u001B[0m \u001B[38;5;28;01mimport\u001B[39;00m \u001B[38;5;21;01mcufflinks\u001B[39;00m \u001B[38;5;28;01mas\u001B[39;00m \u001B[38;5;21;01mcf\u001B[39;00m\n",
      "\u001B[1;31mModuleNotFoundError\u001B[0m: No module named 'cufflinks'"
     ]
    }
   ],
   "source": [
    "import pandas as pd\n",
    "import matplotlib.pyplot as plt\n",
    "\n",
    "import cufflinks as cf"
   ]
  },
  {
   "cell_type": "code",
   "execution_count": 2,
   "outputs": [
    {
     "data": {
      "text/plain": "            country    year    population\n0             China  2020.0  1.439324e+09\n1             China  2019.0  1.433784e+09\n2             China  2018.0  1.427648e+09\n3             China  2017.0  1.421022e+09\n4             China  2016.0  1.414049e+09\n...             ...     ...           ...\n4180  United States  1965.0  1.997337e+08\n4181  United States  1960.0  1.867206e+08\n4182  United States  1955.0  1.716853e+08\n4183          India  1960.0  4.505477e+08\n4184          India  1955.0  4.098806e+08\n\n[4185 rows x 3 columns]",
      "text/html": "<div>\n<style scoped>\n    .dataframe tbody tr th:only-of-type {\n        vertical-align: middle;\n    }\n\n    .dataframe tbody tr th {\n        vertical-align: top;\n    }\n\n    .dataframe thead th {\n        text-align: right;\n    }\n</style>\n<table border=\"1\" class=\"dataframe\">\n  <thead>\n    <tr style=\"text-align: right;\">\n      <th></th>\n      <th>country</th>\n      <th>year</th>\n      <th>population</th>\n    </tr>\n  </thead>\n  <tbody>\n    <tr>\n      <th>0</th>\n      <td>China</td>\n      <td>2020.0</td>\n      <td>1.439324e+09</td>\n    </tr>\n    <tr>\n      <th>1</th>\n      <td>China</td>\n      <td>2019.0</td>\n      <td>1.433784e+09</td>\n    </tr>\n    <tr>\n      <th>2</th>\n      <td>China</td>\n      <td>2018.0</td>\n      <td>1.427648e+09</td>\n    </tr>\n    <tr>\n      <th>3</th>\n      <td>China</td>\n      <td>2017.0</td>\n      <td>1.421022e+09</td>\n    </tr>\n    <tr>\n      <th>4</th>\n      <td>China</td>\n      <td>2016.0</td>\n      <td>1.414049e+09</td>\n    </tr>\n    <tr>\n      <th>...</th>\n      <td>...</td>\n      <td>...</td>\n      <td>...</td>\n    </tr>\n    <tr>\n      <th>4180</th>\n      <td>United States</td>\n      <td>1965.0</td>\n      <td>1.997337e+08</td>\n    </tr>\n    <tr>\n      <th>4181</th>\n      <td>United States</td>\n      <td>1960.0</td>\n      <td>1.867206e+08</td>\n    </tr>\n    <tr>\n      <th>4182</th>\n      <td>United States</td>\n      <td>1955.0</td>\n      <td>1.716853e+08</td>\n    </tr>\n    <tr>\n      <th>4183</th>\n      <td>India</td>\n      <td>1960.0</td>\n      <td>4.505477e+08</td>\n    </tr>\n    <tr>\n      <th>4184</th>\n      <td>India</td>\n      <td>1955.0</td>\n      <td>4.098806e+08</td>\n    </tr>\n  </tbody>\n</table>\n<p>4185 rows × 3 columns</p>\n</div>"
     },
     "execution_count": 2,
     "metadata": {},
     "output_type": "execute_result"
    }
   ],
   "source": [
    "df_raw = pd.read_csv('population_total.csv')\n",
    "df_raw"
   ],
   "metadata": {
    "collapsed": false
   }
  },
  {
   "cell_type": "code",
   "execution_count": 3,
   "outputs": [
    {
     "data": {
      "text/plain": "            country    year    population\n0             China  2020.0  1.439324e+09\n1             China  2019.0  1.433784e+09\n2             China  2018.0  1.427648e+09\n3             China  2017.0  1.421022e+09\n4             China  2016.0  1.414049e+09\n...             ...     ...           ...\n4180  United States  1965.0  1.997337e+08\n4181  United States  1960.0  1.867206e+08\n4182  United States  1955.0  1.716853e+08\n4183          India  1960.0  4.505477e+08\n4184          India  1955.0  4.098806e+08\n\n[4178 rows x 3 columns]",
      "text/html": "<div>\n<style scoped>\n    .dataframe tbody tr th:only-of-type {\n        vertical-align: middle;\n    }\n\n    .dataframe tbody tr th {\n        vertical-align: top;\n    }\n\n    .dataframe thead th {\n        text-align: right;\n    }\n</style>\n<table border=\"1\" class=\"dataframe\">\n  <thead>\n    <tr style=\"text-align: right;\">\n      <th></th>\n      <th>country</th>\n      <th>year</th>\n      <th>population</th>\n    </tr>\n  </thead>\n  <tbody>\n    <tr>\n      <th>0</th>\n      <td>China</td>\n      <td>2020.0</td>\n      <td>1.439324e+09</td>\n    </tr>\n    <tr>\n      <th>1</th>\n      <td>China</td>\n      <td>2019.0</td>\n      <td>1.433784e+09</td>\n    </tr>\n    <tr>\n      <th>2</th>\n      <td>China</td>\n      <td>2018.0</td>\n      <td>1.427648e+09</td>\n    </tr>\n    <tr>\n      <th>3</th>\n      <td>China</td>\n      <td>2017.0</td>\n      <td>1.421022e+09</td>\n    </tr>\n    <tr>\n      <th>4</th>\n      <td>China</td>\n      <td>2016.0</td>\n      <td>1.414049e+09</td>\n    </tr>\n    <tr>\n      <th>...</th>\n      <td>...</td>\n      <td>...</td>\n      <td>...</td>\n    </tr>\n    <tr>\n      <th>4180</th>\n      <td>United States</td>\n      <td>1965.0</td>\n      <td>1.997337e+08</td>\n    </tr>\n    <tr>\n      <th>4181</th>\n      <td>United States</td>\n      <td>1960.0</td>\n      <td>1.867206e+08</td>\n    </tr>\n    <tr>\n      <th>4182</th>\n      <td>United States</td>\n      <td>1955.0</td>\n      <td>1.716853e+08</td>\n    </tr>\n    <tr>\n      <th>4183</th>\n      <td>India</td>\n      <td>1960.0</td>\n      <td>4.505477e+08</td>\n    </tr>\n    <tr>\n      <th>4184</th>\n      <td>India</td>\n      <td>1955.0</td>\n      <td>4.098806e+08</td>\n    </tr>\n  </tbody>\n</table>\n<p>4178 rows × 3 columns</p>\n</div>"
     },
     "execution_count": 3,
     "metadata": {},
     "output_type": "execute_result"
    }
   ],
   "source": [
    "df_raw.dropna(inplace=True)\n",
    "df_raw"
   ],
   "metadata": {
    "collapsed": false
   }
  },
  {
   "cell_type": "code",
   "execution_count": 4,
   "outputs": [],
   "source": [
    "df_pivot = df_raw.pivot(\n",
    "    index='year',\n",
    "    columns='country',\n",
    "    values='population'\n",
    ")"
   ],
   "metadata": {
    "collapsed": false
   }
  },
  {
   "cell_type": "code",
   "execution_count": 5,
   "outputs": [],
   "source": [
    "df_pivot = df_pivot[['United States', 'India', 'China', 'Indonesia', 'Brazil']]"
   ],
   "metadata": {
    "collapsed": false
   }
  },
  {
   "cell_type": "markdown",
   "source": [],
   "metadata": {
    "collapsed": false
   }
  },
  {
   "cell_type": "code",
   "execution_count": 6,
   "outputs": [
    {
     "data": {
      "text/plain": "country  United States         India         China    Indonesia       Brazil\nyear                                                                        \n1955.0     171685336.0  4.098806e+08  6.122416e+08   77273425.0   62533919.0\n1960.0     186720571.0  4.505477e+08  6.604081e+08   87751068.0   72179226.0\n1965.0     199733676.0  4.991233e+08  7.242190e+08  100267062.0   83373530.0\n1970.0     209513341.0  5.551898e+08  8.276014e+08  114793178.0   95113265.0\n1975.0     219081251.0  6.231029e+08  9.262409e+08  130680727.0  107216205.0\n1980.0     229476354.0  6.989528e+08  1.000089e+09  147447836.0  120694009.0\n1985.0     240499825.0  7.843600e+08  1.075589e+09  164982451.0  135274080.0\n1990.0     252120309.0  8.732778e+08  1.176884e+09  181413402.0  149003223.0\n1995.0     265163745.0  9.639226e+08  1.240921e+09  196934260.0  162019896.0\n2000.0     281710909.0  1.056576e+09  1.290551e+09  211513823.0  174790340.0\n2005.0     294993511.0  1.147610e+09  1.330776e+09  226289470.0  186127103.0\n2010.0     309011475.0  1.234281e+09  1.368811e+09  241834215.0  195713635.0\n2015.0     320878310.0  1.310152e+09  1.406848e+09  258383256.0  204471769.0\n2016.0     323015995.0  1.324517e+09  1.414049e+09  261556381.0  206163053.0\n2017.0     325084756.0  1.338677e+09  1.421022e+09  264650963.0  207833823.0\n2018.0     327096265.0  1.352642e+09  1.427648e+09  267670543.0  209469323.0\n2019.0     329064917.0  1.366418e+09  1.433784e+09  270625568.0  211049527.0\n2020.0     331002651.0  1.380004e+09  1.439324e+09  273523615.0  212559417.0",
      "text/html": "<div>\n<style scoped>\n    .dataframe tbody tr th:only-of-type {\n        vertical-align: middle;\n    }\n\n    .dataframe tbody tr th {\n        vertical-align: top;\n    }\n\n    .dataframe thead th {\n        text-align: right;\n    }\n</style>\n<table border=\"1\" class=\"dataframe\">\n  <thead>\n    <tr style=\"text-align: right;\">\n      <th>country</th>\n      <th>United States</th>\n      <th>India</th>\n      <th>China</th>\n      <th>Indonesia</th>\n      <th>Brazil</th>\n    </tr>\n    <tr>\n      <th>year</th>\n      <th></th>\n      <th></th>\n      <th></th>\n      <th></th>\n      <th></th>\n    </tr>\n  </thead>\n  <tbody>\n    <tr>\n      <th>1955.0</th>\n      <td>171685336.0</td>\n      <td>4.098806e+08</td>\n      <td>6.122416e+08</td>\n      <td>77273425.0</td>\n      <td>62533919.0</td>\n    </tr>\n    <tr>\n      <th>1960.0</th>\n      <td>186720571.0</td>\n      <td>4.505477e+08</td>\n      <td>6.604081e+08</td>\n      <td>87751068.0</td>\n      <td>72179226.0</td>\n    </tr>\n    <tr>\n      <th>1965.0</th>\n      <td>199733676.0</td>\n      <td>4.991233e+08</td>\n      <td>7.242190e+08</td>\n      <td>100267062.0</td>\n      <td>83373530.0</td>\n    </tr>\n    <tr>\n      <th>1970.0</th>\n      <td>209513341.0</td>\n      <td>5.551898e+08</td>\n      <td>8.276014e+08</td>\n      <td>114793178.0</td>\n      <td>95113265.0</td>\n    </tr>\n    <tr>\n      <th>1975.0</th>\n      <td>219081251.0</td>\n      <td>6.231029e+08</td>\n      <td>9.262409e+08</td>\n      <td>130680727.0</td>\n      <td>107216205.0</td>\n    </tr>\n    <tr>\n      <th>1980.0</th>\n      <td>229476354.0</td>\n      <td>6.989528e+08</td>\n      <td>1.000089e+09</td>\n      <td>147447836.0</td>\n      <td>120694009.0</td>\n    </tr>\n    <tr>\n      <th>1985.0</th>\n      <td>240499825.0</td>\n      <td>7.843600e+08</td>\n      <td>1.075589e+09</td>\n      <td>164982451.0</td>\n      <td>135274080.0</td>\n    </tr>\n    <tr>\n      <th>1990.0</th>\n      <td>252120309.0</td>\n      <td>8.732778e+08</td>\n      <td>1.176884e+09</td>\n      <td>181413402.0</td>\n      <td>149003223.0</td>\n    </tr>\n    <tr>\n      <th>1995.0</th>\n      <td>265163745.0</td>\n      <td>9.639226e+08</td>\n      <td>1.240921e+09</td>\n      <td>196934260.0</td>\n      <td>162019896.0</td>\n    </tr>\n    <tr>\n      <th>2000.0</th>\n      <td>281710909.0</td>\n      <td>1.056576e+09</td>\n      <td>1.290551e+09</td>\n      <td>211513823.0</td>\n      <td>174790340.0</td>\n    </tr>\n    <tr>\n      <th>2005.0</th>\n      <td>294993511.0</td>\n      <td>1.147610e+09</td>\n      <td>1.330776e+09</td>\n      <td>226289470.0</td>\n      <td>186127103.0</td>\n    </tr>\n    <tr>\n      <th>2010.0</th>\n      <td>309011475.0</td>\n      <td>1.234281e+09</td>\n      <td>1.368811e+09</td>\n      <td>241834215.0</td>\n      <td>195713635.0</td>\n    </tr>\n    <tr>\n      <th>2015.0</th>\n      <td>320878310.0</td>\n      <td>1.310152e+09</td>\n      <td>1.406848e+09</td>\n      <td>258383256.0</td>\n      <td>204471769.0</td>\n    </tr>\n    <tr>\n      <th>2016.0</th>\n      <td>323015995.0</td>\n      <td>1.324517e+09</td>\n      <td>1.414049e+09</td>\n      <td>261556381.0</td>\n      <td>206163053.0</td>\n    </tr>\n    <tr>\n      <th>2017.0</th>\n      <td>325084756.0</td>\n      <td>1.338677e+09</td>\n      <td>1.421022e+09</td>\n      <td>264650963.0</td>\n      <td>207833823.0</td>\n    </tr>\n    <tr>\n      <th>2018.0</th>\n      <td>327096265.0</td>\n      <td>1.352642e+09</td>\n      <td>1.427648e+09</td>\n      <td>267670543.0</td>\n      <td>209469323.0</td>\n    </tr>\n    <tr>\n      <th>2019.0</th>\n      <td>329064917.0</td>\n      <td>1.366418e+09</td>\n      <td>1.433784e+09</td>\n      <td>270625568.0</td>\n      <td>211049527.0</td>\n    </tr>\n    <tr>\n      <th>2020.0</th>\n      <td>331002651.0</td>\n      <td>1.380004e+09</td>\n      <td>1.439324e+09</td>\n      <td>273523615.0</td>\n      <td>212559417.0</td>\n    </tr>\n  </tbody>\n</table>\n</div>"
     },
     "execution_count": 6,
     "metadata": {},
     "output_type": "execute_result"
    }
   ],
   "source": [
    "df_pivot"
   ],
   "metadata": {
    "collapsed": false
   }
  },
  {
   "cell_type": "markdown",
   "source": [
    "# Line plot"
   ],
   "metadata": {
    "collapsed": false
   }
  },
  {
   "cell_type": "code",
   "execution_count": 7,
   "outputs": [
    {
     "data": {
      "text/plain": "<Figure size 640x480 with 1 Axes>",
      "image/png": "[encoded data removed]"
     },
     "metadata": {},
     "output_type": "display_data"
    }
   ],
   "source": [
    "df_pivot.plot(\n",
    "    kind='line',\n",
    "    xlabel=\"Year\",\n",
    "    ylabel=\"Population\",\n",
    "    title=\"Population 1955-2020\",\n",
    ")\n",
    "\n",
    "#save the plot\n",
    "plt.savefig('my_test.png')\n",
    "# show the plot\n",
    "plt.show()"
   ],
   "metadata": {
    "collapsed": false
   }
  },
  {
   "cell_type": "code",
   "execution_count": 8,
   "outputs": [
    {
     "data": {
      "text/plain": "country  United States         India         China    Indonesia       Brazil\nyear                                                                        \n1955.0     171685336.0  4.098806e+08  6.122416e+08   77273425.0   62533919.0\n1960.0     186720571.0  4.505477e+08  6.604081e+08   87751068.0   72179226.0\n1965.0     199733676.0  4.991233e+08  7.242190e+08  100267062.0   83373530.0\n1970.0     209513341.0  5.551898e+08  8.276014e+08  114793178.0   95113265.0\n1975.0     219081251.0  6.231029e+08  9.262409e+08  130680727.0  107216205.0\n1980.0     229476354.0  6.989528e+08  1.000089e+09  147447836.0  120694009.0\n1985.0     240499825.0  7.843600e+08  1.075589e+09  164982451.0  135274080.0\n1990.0     252120309.0  8.732778e+08  1.176884e+09  181413402.0  149003223.0\n1995.0     265163745.0  9.639226e+08  1.240921e+09  196934260.0  162019896.0\n2000.0     281710909.0  1.056576e+09  1.290551e+09  211513823.0  174790340.0\n2005.0     294993511.0  1.147610e+09  1.330776e+09  226289470.0  186127103.0\n2010.0     309011475.0  1.234281e+09  1.368811e+09  241834215.0  195713635.0\n2015.0     320878310.0  1.310152e+09  1.406848e+09  258383256.0  204471769.0\n2016.0     323015995.0  1.324517e+09  1.414049e+09  261556381.0  206163053.0\n2017.0     325084756.0  1.338677e+09  1.421022e+09  264650963.0  207833823.0\n2018.0     327096265.0  1.352642e+09  1.427648e+09  267670543.0  209469323.0\n2019.0     329064917.0  1.366418e+09  1.433784e+09  270625568.0  211049527.0\n2020.0     331002651.0  1.380004e+09  1.439324e+09  273523615.0  212559417.0",
      "text/html": "<div>\n<style scoped>\n    .dataframe tbody tr th:only-of-type {\n        vertical-align: middle;\n    }\n\n    .dataframe tbody tr th {\n        vertical-align: top;\n    }\n\n    .dataframe thead th {\n        text-align: right;\n    }\n</style>\n<table border=\"1\" class=\"dataframe\">\n  <thead>\n    <tr style=\"text-align: right;\">\n      <th>country</th>\n      <th>United States</th>\n      <th>India</th>\n      <th>China</th>\n      <th>Indonesia</th>\n      <th>Brazil</th>\n    </tr>\n    <tr>\n      <th>year</th>\n      <th></th>\n      <th></th>\n      <th></th>\n      <th></th>\n      <th></th>\n    </tr>\n  </thead>\n  <tbody>\n    <tr>\n      <th>1955.0</th>\n      <td>171685336.0</td>\n      <td>4.098806e+08</td>\n      <td>6.122416e+08</td>\n      <td>77273425.0</td>\n      <td>62533919.0</td>\n    </tr>\n    <tr>\n      <th>1960.0</th>\n      <td>186720571.0</td>\n      <td>4.505477e+08</td>\n      <td>6.604081e+08</td>\n      <td>87751068.0</td>\n      <td>72179226.0</td>\n    </tr>\n    <tr>\n      <th>1965.0</th>\n      <td>199733676.0</td>\n      <td>4.991233e+08</td>\n      <td>7.242190e+08</td>\n      <td>100267062.0</td>\n      <td>83373530.0</td>\n    </tr>\n    <tr>\n      <th>1970.0</th>\n      <td>209513341.0</td>\n      <td>5.551898e+08</td>\n      <td>8.276014e+08</td>\n      <td>114793178.0</td>\n      <td>95113265.0</td>\n    </tr>\n    <tr>\n      <th>1975.0</th>\n      <td>219081251.0</td>\n      <td>6.231029e+08</td>\n      <td>9.262409e+08</td>\n      <td>130680727.0</td>\n      <td>107216205.0</td>\n    </tr>\n    <tr>\n      <th>1980.0</th>\n      <td>229476354.0</td>\n      <td>6.989528e+08</td>\n      <td>1.000089e+09</td>\n      <td>147447836.0</td>\n      <td>120694009.0</td>\n    </tr>\n    <tr>\n      <th>1985.0</th>\n      <td>240499825.0</td>\n      <td>7.843600e+08</td>\n      <td>1.075589e+09</td>\n      <td>164982451.0</td>\n      <td>135274080.0</td>\n    </tr>\n    <tr>\n      <th>1990.0</th>\n      <td>252120309.0</td>\n      <td>8.732778e+08</td>\n      <td>1.176884e+09</td>\n      <td>181413402.0</td>\n      <td>149003223.0</td>\n    </tr>\n    <tr>\n      <th>1995.0</th>\n      <td>265163745.0</td>\n      <td>9.639226e+08</td>\n      <td>1.240921e+09</td>\n      <td>196934260.0</td>\n      <td>162019896.0</td>\n    </tr>\n    <tr>\n      <th>2000.0</th>\n      <td>281710909.0</td>\n      <td>1.056576e+09</td>\n      <td>1.290551e+09</td>\n      <td>211513823.0</td>\n      <td>174790340.0</td>\n    </tr>\n    <tr>\n      <th>2005.0</th>\n      <td>294993511.0</td>\n      <td>1.147610e+09</td>\n      <td>1.330776e+09</td>\n      <td>226289470.0</td>\n      <td>186127103.0</td>\n    </tr>\n    <tr>\n      <th>2010.0</th>\n      <td>309011475.0</td>\n      <td>1.234281e+09</td>\n      <td>1.368811e+09</td>\n      <td>241834215.0</td>\n      <td>195713635.0</td>\n    </tr>\n    <tr>\n      <th>2015.0</th>\n      <td>320878310.0</td>\n      <td>1.310152e+09</td>\n      <td>1.406848e+09</td>\n      <td>258383256.0</td>\n      <td>204471769.0</td>\n    </tr>\n    <tr>\n      <th>2016.0</th>\n      <td>323015995.0</td>\n      <td>1.324517e+09</td>\n      <td>1.414049e+09</td>\n      <td>261556381.0</td>\n      <td>206163053.0</td>\n    </tr>\n    <tr>\n      <th>2017.0</th>\n      <td>325084756.0</td>\n      <td>1.338677e+09</td>\n      <td>1.421022e+09</td>\n      <td>264650963.0</td>\n      <td>207833823.0</td>\n    </tr>\n    <tr>\n      <th>2018.0</th>\n      <td>327096265.0</td>\n      <td>1.352642e+09</td>\n      <td>1.427648e+09</td>\n      <td>267670543.0</td>\n      <td>209469323.0</td>\n    </tr>\n    <tr>\n      <th>2019.0</th>\n      <td>329064917.0</td>\n      <td>1.366418e+09</td>\n      <td>1.433784e+09</td>\n      <td>270625568.0</td>\n      <td>211049527.0</td>\n    </tr>\n    <tr>\n      <th>2020.0</th>\n      <td>331002651.0</td>\n      <td>1.380004e+09</td>\n      <td>1.439324e+09</td>\n      <td>273523615.0</td>\n      <td>212559417.0</td>\n    </tr>\n  </tbody>\n</table>\n</div>"
     },
     "execution_count": 8,
     "metadata": {},
     "output_type": "execute_result"
    }
   ],
   "source": [
    "df_pivot"
   ],
   "metadata": {
    "collapsed": false
   }
  },
  {
   "cell_type": "code",
   "execution_count": 11,
   "outputs": [],
   "source": [
    "# Export to xlsx\n",
    "# df_pivot.to_excel('pivot_table.xlsx')"
   ],
   "metadata": {
    "collapsed": false
   }
  },
  {
   "cell_type": "markdown",
   "source": [
    "# Bar plot"
   ],
   "metadata": {
    "collapsed": false
   }
  },
  {
   "cell_type": "code",
   "execution_count": null,
   "outputs": [],
   "source": [
    "# Pivot with one year only\n",
    "df_pivot_2020 = df_pivot[df_pivot.index.isin([2020])]"
   ],
   "metadata": {
    "collapsed": false
   }
  },
  {
   "cell_type": "code",
   "execution_count": null,
   "outputs": [],
   "source": [
    "df_pivot_2020 = df_pivot_2020.T"
   ],
   "metadata": {
    "collapsed": false
   }
  },
  {
   "cell_type": "code",
   "execution_count": null,
   "outputs": [],
   "source": [
    "df_pivot_2020.plot(\n",
    "    kind='bar',\n",
    "    xlabel=\"Year\",\n",
    "    ylabel=\"Population\",\n",
    "    title=\"Population only 2020\",\n",
    "    figsize=(8, 4)\n",
    "\n",
    ")"
   ],
   "metadata": {
    "collapsed": false
   }
  },
  {
   "cell_type": "code",
   "execution_count": null,
   "outputs": [],
   "source": [
    "# Pivot with many years\n",
    "\n",
    "df_pivot_many_years = df_pivot[df_pivot.index.isin([1990, 2000, 2010, 2020])]"
   ],
   "metadata": {
    "collapsed": false
   }
  },
  {
   "cell_type": "code",
   "execution_count": null,
   "outputs": [],
   "source": [
    "df_pivot_many_years.plot(\n",
    "    kind='bar',\n",
    "    xlabel=\"Years\",\n",
    "    ylabel=\"Population\"\n",
    ")"
   ],
   "metadata": {
    "collapsed": false
   }
  },
  {
   "cell_type": "markdown",
   "source": [
    "# Piechart"
   ],
   "metadata": {
    "collapsed": false
   }
  },
  {
   "cell_type": "code",
   "execution_count": null,
   "outputs": [],
   "source": [
    "# Change the columns name from int to str\n",
    "df_pivot_2020"
   ],
   "metadata": {
    "collapsed": false
   }
  },
  {
   "cell_type": "code",
   "execution_count": null,
   "outputs": [],
   "source": [
    "# Change the columns name from int to str\n",
    "df_pivot_2020.rename(columns={2020: '2020'}, inplace=True)"
   ],
   "metadata": {
    "collapsed": false
   }
  },
  {
   "cell_type": "code",
   "execution_count": null,
   "outputs": [],
   "source": [
    "# Making a pie plot\n",
    "df_pivot_2020.plot(\n",
    "    kind='pie',\n",
    "    y='2020'\n",
    ")"
   ],
   "metadata": {
    "collapsed": false
   }
  },
  {
   "cell_type": "markdown",
   "source": [
    "# Boxplot"
   ],
   "metadata": {
    "collapsed": false
   }
  },
  {
   "cell_type": "code",
   "execution_count": null,
   "outputs": [],
   "source": [
    "# Single boxplot\n",
    "df_pivot['United States'].plot(\n",
    "    kind='box',\n",
    "    ylabel='Population',\n",
    "    color='red'\n",
    ")"
   ],
   "metadata": {
    "collapsed": false
   }
  },
  {
   "cell_type": "code",
   "execution_count": null,
   "outputs": [],
   "source": [
    "# Multiple boxplot\n",
    "df_pivot.plot(\n",
    "    kind='box',\n",
    "    ylabel='United States',\n",
    "    color='blue'\n",
    ")"
   ],
   "metadata": {
    "collapsed": false
   }
  },
  {
   "cell_type": "markdown",
   "source": [
    "# Histogram"
   ],
   "metadata": {
    "collapsed": false
   }
  },
  {
   "cell_type": "code",
   "execution_count": null,
   "outputs": [],
   "source": [
    "df_pivot[['United States', 'Indonesia', 'Brazil']].plot(kind='hist')"
   ],
   "metadata": {
    "collapsed": false
   }
  },
  {
   "cell_type": "markdown",
   "source": [
    "# Scatterplot"
   ],
   "metadata": {
    "collapsed": false
   }
  },
  {
   "cell_type": "code",
   "execution_count": null,
   "outputs": [],
   "source": [
    "df_sample = df_raw[df_raw['country'].isin(['United States', 'India', 'China', 'Indonesia', 'Brazil'])]"
   ],
   "metadata": {
    "collapsed": false
   }
  },
  {
   "cell_type": "code",
   "execution_count": null,
   "outputs": [],
   "source": [
    "df_sample.plot(\n",
    "    kind='scatter',\n",
    "    x='year',\n",
    "    y='population',\n",
    "    s=10\n",
    ")"
   ],
   "metadata": {
    "collapsed": false
   }
  },
  {
   "cell_type": "code",
   "execution_count": null,
   "outputs": [],
   "source": [],
   "metadata": {
    "collapsed": false
   }
  }
 ],
 "metadata": {
  "kernelspec": {
   "display_name": "Python 3",
   "language": "python",
   "name": "python3"
  },
  "language_info": {
   "codemirror_mode": {
    "name": "ipython",
    "version": 2
   },
   "file_extension": ".py",
   "mimetype": "text/x-python",
   "name": "python",
   "nbconvert_exporter": "python",
   "pygments_lexer": "ipython2",
   "version": "2.7.6"
  }
 },
 "nbformat": 4,
 "nbformat_minor": 0
}
