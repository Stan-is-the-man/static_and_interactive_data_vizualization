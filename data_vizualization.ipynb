{
 "cells": [
  {
   "cell_type": "code",
   "execution_count": 2,
   "metadata": {
    "collapsed": true
   },
   "outputs": [],
   "source": [
    "import pandas as pd"
   ]
  },
  {
   "cell_type": "code",
   "execution_count": 3,
   "outputs": [
    {
     "data": {
      "text/plain": "            country    year    population\n0             China  2020.0  1.439324e+09\n1             China  2019.0  1.433784e+09\n2             China  2018.0  1.427648e+09\n3             China  2017.0  1.421022e+09\n4             China  2016.0  1.414049e+09\n...             ...     ...           ...\n4180  United States  1965.0  1.997337e+08\n4181  United States  1960.0  1.867206e+08\n4182  United States  1955.0  1.716853e+08\n4183          India  1960.0  4.505477e+08\n4184          India  1955.0  4.098806e+08\n\n[4185 rows x 3 columns]",
      "text/html": "<div>\n<style scoped>\n    .dataframe tbody tr th:only-of-type {\n        vertical-align: middle;\n    }\n\n    .dataframe tbody tr th {\n        vertical-align: top;\n    }\n\n    .dataframe thead th {\n        text-align: right;\n    }\n</style>\n<table border=\"1\" class=\"dataframe\">\n  <thead>\n    <tr style=\"text-align: right;\">\n      <th></th>\n      <th>country</th>\n      <th>year</th>\n      <th>population</th>\n    </tr>\n  </thead>\n  <tbody>\n    <tr>\n      <th>0</th>\n      <td>China</td>\n      <td>2020.0</td>\n      <td>1.439324e+09</td>\n    </tr>\n    <tr>\n      <th>1</th>\n      <td>China</td>\n      <td>2019.0</td>\n      <td>1.433784e+09</td>\n    </tr>\n    <tr>\n      <th>2</th>\n      <td>China</td>\n      <td>2018.0</td>\n      <td>1.427648e+09</td>\n    </tr>\n    <tr>\n      <th>3</th>\n      <td>China</td>\n      <td>2017.0</td>\n      <td>1.421022e+09</td>\n    </tr>\n    <tr>\n      <th>4</th>\n      <td>China</td>\n      <td>2016.0</td>\n      <td>1.414049e+09</td>\n    </tr>\n    <tr>\n      <th>...</th>\n      <td>...</td>\n      <td>...</td>\n      <td>...</td>\n    </tr>\n    <tr>\n      <th>4180</th>\n      <td>United States</td>\n      <td>1965.0</td>\n      <td>1.997337e+08</td>\n    </tr>\n    <tr>\n      <th>4181</th>\n      <td>United States</td>\n      <td>1960.0</td>\n      <td>1.867206e+08</td>\n    </tr>\n    <tr>\n      <th>4182</th>\n      <td>United States</td>\n      <td>1955.0</td>\n      <td>1.716853e+08</td>\n    </tr>\n    <tr>\n      <th>4183</th>\n      <td>India</td>\n      <td>1960.0</td>\n      <td>4.505477e+08</td>\n    </tr>\n    <tr>\n      <th>4184</th>\n      <td>India</td>\n      <td>1955.0</td>\n      <td>4.098806e+08</td>\n    </tr>\n  </tbody>\n</table>\n<p>4185 rows × 3 columns</p>\n</div>"
     },
     "execution_count": 3,
     "metadata": {},
     "output_type": "execute_result"
    }
   ],
   "source": [
    "df_raw =  pd.read_csv('population_total.csv')\n",
    "df_raw"
   ],
   "metadata": {
    "collapsed": false
   }
  },
  {
   "cell_type": "code",
   "execution_count": 4,
   "outputs": [
    {
     "data": {
      "text/plain": "            country    year    population\n0             China  2020.0  1.439324e+09\n1             China  2019.0  1.433784e+09\n2             China  2018.0  1.427648e+09\n3             China  2017.0  1.421022e+09\n4             China  2016.0  1.414049e+09\n...             ...     ...           ...\n4180  United States  1965.0  1.997337e+08\n4181  United States  1960.0  1.867206e+08\n4182  United States  1955.0  1.716853e+08\n4183          India  1960.0  4.505477e+08\n4184          India  1955.0  4.098806e+08\n\n[4178 rows x 3 columns]",
      "text/html": "<div>\n<style scoped>\n    .dataframe tbody tr th:only-of-type {\n        vertical-align: middle;\n    }\n\n    .dataframe tbody tr th {\n        vertical-align: top;\n    }\n\n    .dataframe thead th {\n        text-align: right;\n    }\n</style>\n<table border=\"1\" class=\"dataframe\">\n  <thead>\n    <tr style=\"text-align: right;\">\n      <th></th>\n      <th>country</th>\n      <th>year</th>\n      <th>population</th>\n    </tr>\n  </thead>\n  <tbody>\n    <tr>\n      <th>0</th>\n      <td>China</td>\n      <td>2020.0</td>\n      <td>1.439324e+09</td>\n    </tr>\n    <tr>\n      <th>1</th>\n      <td>China</td>\n      <td>2019.0</td>\n      <td>1.433784e+09</td>\n    </tr>\n    <tr>\n      <th>2</th>\n      <td>China</td>\n      <td>2018.0</td>\n      <td>1.427648e+09</td>\n    </tr>\n    <tr>\n      <th>3</th>\n      <td>China</td>\n      <td>2017.0</td>\n      <td>1.421022e+09</td>\n    </tr>\n    <tr>\n      <th>4</th>\n      <td>China</td>\n      <td>2016.0</td>\n      <td>1.414049e+09</td>\n    </tr>\n    <tr>\n      <th>...</th>\n      <td>...</td>\n      <td>...</td>\n      <td>...</td>\n    </tr>\n    <tr>\n      <th>4180</th>\n      <td>United States</td>\n      <td>1965.0</td>\n      <td>1.997337e+08</td>\n    </tr>\n    <tr>\n      <th>4181</th>\n      <td>United States</td>\n      <td>1960.0</td>\n      <td>1.867206e+08</td>\n    </tr>\n    <tr>\n      <th>4182</th>\n      <td>United States</td>\n      <td>1955.0</td>\n      <td>1.716853e+08</td>\n    </tr>\n    <tr>\n      <th>4183</th>\n      <td>India</td>\n      <td>1960.0</td>\n      <td>4.505477e+08</td>\n    </tr>\n    <tr>\n      <th>4184</th>\n      <td>India</td>\n      <td>1955.0</td>\n      <td>4.098806e+08</td>\n    </tr>\n  </tbody>\n</table>\n<p>4178 rows × 3 columns</p>\n</div>"
     },
     "execution_count": 4,
     "metadata": {},
     "output_type": "execute_result"
    }
   ],
   "source": [
    "df_raw.dropna(inplace=True)\n",
    "df_raw"
   ],
   "metadata": {
    "collapsed": false
   }
  },
  {
   "cell_type": "code",
   "execution_count": 4,
   "outputs": [],
   "source": [],
   "metadata": {
    "collapsed": false
   }
  },
  {
   "cell_type": "code",
   "execution_count": 4,
   "outputs": [],
   "source": [],
   "metadata": {
    "collapsed": false
   }
  }
 ],
 "metadata": {
  "kernelspec": {
   "display_name": "Python 3",
   "language": "python",
   "name": "python3"
  },
  "language_info": {
   "codemirror_mode": {
    "name": "ipython",
    "version": 2
   },
   "file_extension": ".py",
   "mimetype": "text/x-python",
   "name": "python",
   "nbconvert_exporter": "python",
   "pygments_lexer": "ipython2",
   "version": "2.7.6"
  }
 },
 "nbformat": 4,
 "nbformat_minor": 0
}
